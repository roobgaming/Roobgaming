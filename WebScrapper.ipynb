{
  "cells": [
    {
      "cell_type": "markdown",
      "metadata": {
        "id": "view-in-github",
        "colab_type": "text"
      },
      "source": [
        "<a href=\"https://colab.research.google.com/github/roobgaming/Roobgaming/blob/main/WebScrapper.ipynb\" target=\"_parent\"><img src=\"https://colab.research.google.com/assets/colab-badge.svg\" alt=\"Open In Colab\"/></a>"
      ]
    },
    {
      "cell_type": "code",
      "execution_count": null,
      "metadata": {
        "id": "TzzGkL4dOnXS"
      },
      "outputs": [],
      "source": [
        "!git clone https://github.com/nuhmanpk/WebScrapper.git"
      ]
    },
    {
      "cell_type": "code",
      "execution_count": null,
      "metadata": {
        "id": "1-lxdHnKOnXV"
      },
      "outputs": [],
      "source": [
        "!pip install -r /content/WebScrapper/requirements.txt -qU"
      ]
    },
    {
      "cell_type": "code",
      "execution_count": null,
      "metadata": {
        "id": "f6kBffqlOnXV"
      },
      "outputs": [],
      "source": [
        "BOT_TOKEN = 'TOKEN'\n",
        "API_ID = 'API_ID'\n",
        "API_HASH = 'API_HASH'\n",
        "CRAWL_LOG_CHANNEL = '' # Channel ID where the Data to be sent"
      ]
    },
    {
      "cell_type": "code",
      "execution_count": null,
      "metadata": {
        "id": "kZ7v9wiIOnXW"
      },
      "outputs": [],
      "source": [
        "with open('.env', 'w') as f:\n",
        "    f.write(f\"BOT_TOKEN={BOT_TOKEN}\\n\")\n",
        "    f.write(f\"API_ID={API_ID}\\n\")\n",
        "    f.write(f\"API_HASH={API_HASH}\\n\")\n",
        "    f.write(f\"CRAWL_LOG_CHANNEL={CRAWL_LOG_CHANNEL}\\n\")"
      ]
    },
    {
      "cell_type": "code",
      "execution_count": null,
      "metadata": {
        "id": "IztM5hJCOnXW"
      },
      "outputs": [],
      "source": [
        "!pyt dethon3 /content/WebScrapper/main.py"
      ]
    },
    {
      "cell_type": "code",
      "source": [],
      "metadata": {
        "id": "Pd0X9mICOr_S"
      },
      "execution_count": null,
      "outputs": []
    }
  ],
  "metadata": {
    "language_info": {
      "name": "python"
    },
    "colab": {
      "provenance": [],
      "include_colab_link": true
    },
    "kernelspec": {
      "name": "python3",
      "display_name": "Python 3"
    }
  },
  "nbformat": 4,
  "nbformat_minor": 0
}